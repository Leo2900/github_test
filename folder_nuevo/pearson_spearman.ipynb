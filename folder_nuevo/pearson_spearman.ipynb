{
  "nbformat": 4,
  "nbformat_minor": 0,
  "metadata": {
    "colab": {
      "provenance": []
    },
    "kernelspec": {
      "name": "python3",
      "display_name": "Python 3"
    },
    "language_info": {
      "name": "python"
    }
  },
  "cells": [
    {
      "cell_type": "code",
      "source": [
        "import numpy as np"
      ],
      "metadata": {
        "id": "FRoTAeaEltRo"
      },
      "execution_count": 1,
      "outputs": []
    },
    {
      "cell_type": "markdown",
      "source": [
        "El coeficiente de Pearson para dos conjuntos de datos ${x_1, x_2, ...}$ y ${y_1, y_2, ...}$ es\n",
        "\n",
        "$$\n",
        "r = \\frac{\\sum (x - \\overline{x}) (y - \\overline{y})}{\\sqrt{\\sum (x - \\overline{x})^2 ∑(y - \\overline{y})^2}}.\n",
        "$$\n",
        "\n",
        "Ahora hagamos una función que lo calcule."
      ],
      "metadata": {
        "id": "6Tg3Psn6ldPV"
      }
    },
    {
      "cell_type": "code",
      "execution_count": 2,
      "metadata": {
        "id": "VAH100FHlXv7"
      },
      "outputs": [],
      "source": [
        "def pearson(X,Y):\n",
        "  x_mean = X.mean()\n",
        "  y_mean = Y.mean()\n",
        "\n",
        "  sum_1 = ((X - x_mean)*(Y - y_mean)).sum()\n",
        "  sum_2 = ((X - x_mean)*(X - x_mean)).sum()\n",
        "  sum_3 = ((Y - y_mean)*(Y - y_mean)).sum()\n",
        "\n",
        "  return sum_1 / np.sqrt(sum_2 * sum_3)"
      ]
    },
    {
      "cell_type": "markdown",
      "source": [
        "Veamos un ejemplo"
      ],
      "metadata": {
        "id": "EuR6_zW-louO"
      }
    },
    {
      "cell_type": "code",
      "source": [
        "L = np.array([[40,\t78],[21,\t70],[25,\t60],[31,\t55],[38,\t80],[47,\t66]])\n",
        "\n",
        "print(f'El coeficiente de Pearson es: {pearson(L[:,0],L[:,1])}')"
      ],
      "metadata": {
        "colab": {
          "base_uri": "https://localhost:8080/"
        },
        "id": "rtgE5YC4lf9C",
        "outputId": "3d89298e-80be-4b4d-c920-2487434b1eec"
      },
      "execution_count": 3,
      "outputs": [
        {
          "output_type": "stream",
          "name": "stdout",
          "text": [
            "El coeficiente de Pearson es: 0.3471102283886791\n"
          ]
        }
      ]
    },
    {
      "cell_type": "markdown",
      "source": [
        "Y el de Spearman\n",
        "\n",
        "$$\n",
        "\\rho = 1 - \\frac{6 Σ d^2}{n^3 - n}\n",
        "$$"
      ],
      "metadata": {
        "id": "LefTg1tllh9s"
      }
    },
    {
      "cell_type": "code",
      "source": [
        "def spearman(X,Y):\n",
        "\n",
        "  n = len(X)\n",
        "\n",
        "  X_copy = np.copy(X)\n",
        "  Y_copy = np.copy(Y)\n",
        "\n",
        "  X_copy.sort()\n",
        "  Y_copy.sort()\n",
        "\n",
        "  X_numerate = {x:i for i,x in enumerate(X_copy,start=1)}\n",
        "  Y_numerate = {y:i for i,y in enumerate(Y_copy,start=1)}\n",
        "\n",
        "  d = np.array([X_numerate[X[i]] - Y_numerate[Y[i]] for i in range(n)])\n",
        "\n",
        "  d_2 = d * d\n",
        "\n",
        "  return 1 - (6 * d_2.sum()) / (n**3 - n)"
      ],
      "metadata": {
        "id": "Kn_tstHQlj1V"
      },
      "execution_count": 4,
      "outputs": []
    },
    {
      "cell_type": "markdown",
      "source": [
        "Veamos el ejemplo de la clase"
      ],
      "metadata": {
        "id": "oopk_5cZlqnE"
      }
    },
    {
      "cell_type": "code",
      "source": [
        "L = np.array([[46.8,\t31.7],[43.2,\t30.6],[44.1,\t38.9],[44.7,\t34.0],[45.4,\t32.4]])"
      ],
      "metadata": {
        "id": "WWR5kqKylmDt"
      },
      "execution_count": 5,
      "outputs": []
    },
    {
      "cell_type": "code",
      "source": [
        "print(f'El coeficiente de Spearman es: {spearman(L[:,0],L[:,1])}')"
      ],
      "metadata": {
        "colab": {
          "base_uri": "https://localhost:8080/"
        },
        "id": "LlsyOb98lnqn",
        "outputId": "883c72d4-0c3f-44c5-b882-db32f2058e8c"
      },
      "execution_count": 6,
      "outputs": [
        {
          "output_type": "stream",
          "name": "stdout",
          "text": [
            "El coeficiente de Spearman es: 0.0\n"
          ]
        }
      ]
    }
  ]
}